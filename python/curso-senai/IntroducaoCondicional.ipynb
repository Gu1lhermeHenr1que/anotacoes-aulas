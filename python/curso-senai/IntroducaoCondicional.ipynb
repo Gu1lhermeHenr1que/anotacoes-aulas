{
 "cells": [
  {
   "cell_type": "code",
   "execution_count": 1,
   "id": "9abae75a-78c9-44f6-a8c0-67b636fd91bb",
   "metadata": {},
   "outputs": [],
   "source": [
    "#Estrutura condicional if\n"
   ]
  },
  {
   "cell_type": "code",
   "execution_count": 6,
   "id": "372275fd-e4d9-4064-8cdc-ef1db0d73f4b",
   "metadata": {},
   "outputs": [
    {
     "name": "stdout",
     "output_type": "stream",
     "text": [
      "voce é menor de idade\n"
     ]
    }
   ],
   "source": [
    "idade = 1\n",
    "if idade >= 18:\n",
    "    print('voce é maior de idade')\n",
    "else:\n",
    "    print('voce é menor de idade')"
   ]
  },
  {
   "cell_type": "code",
   "execution_count": null,
   "id": "4dd4fb90-b969-4db6-a459-2a30f6573c67",
   "metadata": {},
   "outputs": [],
   "source": []
  }
 ],
 "metadata": {
  "kernelspec": {
   "display_name": "anaconda-2024.02-py310",
   "language": "python",
   "name": "conda-env-anaconda-2024.02-py310-py"
  },
  "language_info": {
   "codemirror_mode": {
    "name": "ipython",
    "version": 3
   },
   "file_extension": ".py",
   "mimetype": "text/x-python",
   "name": "python",
   "nbconvert_exporter": "python",
   "pygments_lexer": "ipython3",
   "version": "3.10.14"
  }
 },
 "nbformat": 4,
 "nbformat_minor": 5
}
